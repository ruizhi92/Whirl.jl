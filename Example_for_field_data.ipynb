{
 "cells": [
  {
   "cell_type": "code",
   "execution_count": 1,
   "metadata": {
    "collapsed": false
   },
   "outputs": [],
   "source": [
    "include(\"src/Whirl.jl\")\n",
    "using Whirl"
   ]
  },
  {
   "cell_type": "code",
   "execution_count": null,
   "metadata": {
    "collapsed": false
   },
   "outputs": [],
   "source": [
    "w = Nodes(Dual,(5,4))\n",
    "w .= reshape(1:20,5,4)"
   ]
  },
  {
   "cell_type": "code",
   "execution_count": null,
   "metadata": {
    "collapsed": false
   },
   "outputs": [],
   "source": [
    "q = Edges(Primal,w);\n",
    "q.u[2,3] = 1;\n",
    "q"
   ]
  },
  {
   "cell_type": "code",
   "execution_count": null,
   "metadata": {
    "collapsed": false
   },
   "outputs": [],
   "source": [
    "curl(w)"
   ]
  },
  {
   "cell_type": "code",
   "execution_count": null,
   "metadata": {
    "collapsed": false
   },
   "outputs": [],
   "source": [
    "q = Edges(Primal,w)\n",
    "curl!(q,w)"
   ]
  },
  {
   "cell_type": "code",
   "execution_count": null,
   "metadata": {
    "collapsed": false
   },
   "outputs": [],
   "source": [
    "C = Curl()\n",
    "D = Divergence()\n",
    "G = Grad()\n",
    "# G*(C*q)"
   ]
  },
  {
   "cell_type": "code",
   "execution_count": null,
   "metadata": {
    "collapsed": false,
    "scrolled": true
   },
   "outputs": [],
   "source": [
    "(C*q)"
   ]
  },
  {
   "cell_type": "code",
   "execution_count": null,
   "metadata": {
    "collapsed": false
   },
   "outputs": [],
   "source": [
    "L = Laplacian(size(w),with_inverse=true)"
   ]
  },
  {
   "cell_type": "code",
   "execution_count": null,
   "metadata": {
    "collapsed": true
   },
   "outputs": [],
   "source": [
    "using Plots\n",
    "pyplot()\n",
    "\n",
    "w = Nodes(Dual,(50,10));\n",
    "w[20,5] = 1.0\n",
    "L = Laplacian(w,with_inverse=true)\n",
    "plot(L\\w)\n",
    "savefig(\"Linvw.svg\"); nothing # hide"
   ]
  },
  {
   "cell_type": "code",
   "execution_count": null,
   "metadata": {
    "collapsed": true
   },
   "outputs": [],
   "source": [
    "w = Nodes(Dual,(100,100));\n",
    "w[40,50] = 1.0\n",
    "plot(w)\n",
    "savefig(\"w1.svg\"); nothing # hide"
   ]
  },
  {
   "cell_type": "code",
   "execution_count": null,
   "metadata": {
    "collapsed": true
   },
   "outputs": [],
   "source": [
    "E = IntFact(5,w)\n",
    "plot(E*w)\n",
    "savefig(\"Ew1.svg\"); nothing # hide"
   ]
  },
  {
   "cell_type": "code",
   "execution_count": null,
   "metadata": {
    "collapsed": true
   },
   "outputs": [],
   "source": [
    "E = IntFact(10,w)\n",
    "plot(E*w)\n",
    "savefig(\"Ew2.svg\"); nothing # hide"
   ]
  },
  {
   "cell_type": "code",
   "execution_count": 2,
   "metadata": {
    "collapsed": false,
    "scrolled": true
   },
   "outputs": [
    {
     "data": {
      "text/plain": [
       "100 points of vector-valued data\n",
       " 0.75      0.5     \n",
       " 0.749507  0.515698\n",
       " 0.748029  0.531333\n",
       " 0.745572  0.546845\n",
       " 0.742146  0.562172\n",
       " 0.737764  0.577254\n",
       " 0.732444  0.592031\n",
       " 0.726207  0.606445\n",
       " 0.719077  0.620438\n",
       " 0.711082  0.633957\n",
       " 0.702254  0.646946\n",
       " 0.692628  0.659356\n",
       " 0.682242  0.671137\n",
       " ⋮                 \n",
       " 0.682242  0.328863\n",
       " 0.692628  0.340644\n",
       " 0.702254  0.353054\n",
       " 0.711082  0.366043\n",
       " 0.719077  0.379562\n",
       " 0.726207  0.393555\n",
       " 0.732444  0.407969\n",
       " 0.737764  0.422746\n",
       " 0.742146  0.437828\n",
       " 0.745572  0.453155\n",
       " 0.748029  0.468667\n",
       " 0.749507  0.484302"
      ]
     },
     "execution_count": 2,
     "metadata": {},
     "output_type": "execute_result"
    }
   ],
   "source": [
    "using Plots\n",
    "pyplot()\n",
    "\n",
    "n = 100\n",
    "θ = linspace(0,2π,n+1)\n",
    "x = 0.5 + 0.25*cos.(θ[1:n])\n",
    "y = 0.5 + 0.25*sin.(θ[1:n])\n",
    "ds = 2π/n*0.25\n",
    "X = VectorData(x,y)"
   ]
  },
  {
   "cell_type": "code",
   "execution_count": 3,
   "metadata": {
    "collapsed": false,
    "scrolled": true
   },
   "outputs": [
    {
     "data": {
      "text/plain": [
       "100 points of vector-valued data\n",
       " 1.0   0.0      \n",
       " 1.0   0.0156976\n",
       " 1.0   0.0313333\n",
       " 1.0   0.0468453\n",
       " 1.0   0.0621725\n",
       " 1.0   0.0772542\n",
       " 1.0   0.0920311\n",
       " 1.0   0.106445 \n",
       " 1.0   0.120438 \n",
       " 1.0   0.133957 \n",
       " 1.0   0.146946 \n",
       " 1.0   0.159356 \n",
       " 1.0   0.171137 \n",
       " ⋮              \n",
       " 1.0  -0.171137 \n",
       " 1.0  -0.159356 \n",
       " 1.0  -0.146946 \n",
       " 1.0  -0.133957 \n",
       " 1.0  -0.120438 \n",
       " 1.0  -0.106445 \n",
       " 1.0  -0.0920311\n",
       " 1.0  -0.0772542\n",
       " 1.0  -0.0621725\n",
       " 1.0  -0.0468453\n",
       " 1.0  -0.0313333\n",
       " 1.0  -0.0156976"
      ]
     },
     "execution_count": 3,
     "metadata": {},
     "output_type": "execute_result"
    }
   ],
   "source": [
    "f = VectorData(X)\n",
    "fill!(f.u,1.0)\n",
    "f.v .= X.v.-0.5\n",
    "f"
   ]
  },
  {
   "cell_type": "code",
   "execution_count": 5,
   "metadata": {
    "collapsed": false
   },
   "outputs": [
    {
     "data": {
      "text/plain": [
       "Regularization/interpolation operator with non-filtered interpolation\n",
       "  100 points in grid with cell area 0.0001\n"
      ]
     },
     "execution_count": 5,
     "metadata": {},
     "output_type": "execute_result"
    }
   ],
   "source": [
    "nx = 102; ny = 102\n",
    "q = Edges(Primal,(nx,ny))\n",
    "Lx = 1.0\n",
    "dx = Lx/(nx-2)\n",
    "H = Regularize(X,dx,weights=ds)"
   ]
  },
  {
   "cell_type": "code",
   "execution_count": 6,
   "metadata": {
    "collapsed": false
   },
   "outputs": [
    {
     "data": {
      "image/png": "[encoded data removed]"
     },
     "execution_count": 6,
     "metadata": {},
     "output_type": "execute_result"
    }
   ],
   "source": [
    "H(q,f)\n",
    "plot(q)"
   ]
  }
 ],
 "metadata": {
  "kernelspec": {
   "display_name": "Julia 0.6.2",
   "language": "julia",
   "name": "julia-0.6"
  },
  "language_info": {
   "file_extension": ".jl",
   "mimetype": "application/julia",
   "name": "julia",
   "version": "0.6.2"
  }
 },
 "nbformat": 4,
 "nbformat_minor": 2
}
