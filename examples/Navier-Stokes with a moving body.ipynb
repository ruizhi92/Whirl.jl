{
 "cells": [
  {
   "cell_type": "markdown",
   "metadata": {},
   "source": [
    "# Testing Navier-Stokes with a moving body in package `Whirl`"
   ]
  },
  {
   "cell_type": "code",
   "execution_count": 1,
   "metadata": {},
   "outputs": [],
   "source": [
    "include(joinpath(Pkg.dir(\"Whirl\"), \"src/Whirl.jl\"))\n",
    "using Whirl"
   ]
  },
  {
   "cell_type": "code",
   "execution_count": 2,
   "metadata": {},
   "outputs": [],
   "source": [
    "using Plots\n",
    "pyplot()\n",
    "clibrary(:colorbrewer)\n",
    "default(grid = false)"
   ]
  },
  {
   "cell_type": "markdown",
   "metadata": {},
   "source": [
    "### Solve flow past a stationary body"
   ]
  },
  {
   "cell_type": "markdown",
   "metadata": {},
   "source": [
    "Set the flow parameters"
   ]
  },
  {
   "cell_type": "code",
   "execution_count": 3,
   "metadata": {},
   "outputs": [],
   "source": [
    "Re = 200; # Reynolds number\n",
    "U = 1.0; # Free stream velocity\n",
    "U∞ = (U,0.0);"
   ]
  },
  {
   "cell_type": "markdown",
   "metadata": {},
   "source": [
    "Set up points on the body"
   ]
  },
  {
   "cell_type": "code",
   "execution_count": 4,
   "metadata": {},
   "outputs": [
    {
     "data": {
      "text/plain": [
       "Plate with 51 points and length 1.0 and thickness 0.0\n",
       "   Current position: (0.0,0.0)\n",
       "   Current angle (rad): 0.0\n"
      ]
     },
     "execution_count": 4,
     "metadata": {},
     "output_type": "execute_result"
    }
   ],
   "source": [
    "n = 51;\n",
    "a = 0.5; b = 0.1;\n",
    "body = Bodies.Plate(1.0,n)"
   ]
  },
  {
   "cell_type": "markdown",
   "metadata": {},
   "source": [
    "Set the motion to oscillatory pitch-heave kinematics"
   ]
  },
  {
   "cell_type": "code",
   "execution_count": 5,
   "metadata": {},
   "outputs": [
    {
     "data": {
      "text/plain": [
       "Rigid Body Motion:\n",
       "  ċ = 0.0 + 0.5im\n",
       "  c̈ = -0.03 + 0.17im\n",
       "  α̇ = 0.0\n",
       "  α̈ = -0.7\n",
       "  Oscillatory pitch-heave kinematics with\n",
       "     Reduced frequency K = 1.0\n",
       "     Heaving amplitude A = 0.25\n",
       "     Pitching amplitude Δα = 0.17453292519943295\n",
       "     Pitch-to-heave lag ϕ = -1.5707963267948966\n"
      ]
     },
     "execution_count": 5,
     "metadata": {},
     "output_type": "execute_result"
    }
   ],
   "source": [
    "a = 0.25 # location of pitch axis, a = 0.5 is leading edge\n",
    "ϕ = -π/2  # phase lag of pitch to heave\n",
    "A = 0.25  # amplitude/chord\n",
    "fstar = 1/π # fc/U\n",
    "α₀ = 0 # mean angle of attack\n",
    "Δα = 10π/180 # amplitude of pitching\n",
    "U₀ = 0.0 # translational motion (set to zero in place of free stream)\n",
    "\n",
    "K = π*fstar # reduced frequency, K = πfc/U\n",
    "\n",
    "oscil = RigidBodyMotions.PitchHeave(U₀,a,K,ϕ,α₀,Δα,A);\n",
    "motion = RigidBodyMotion(oscil)"
   ]
  },
  {
   "cell_type": "markdown",
   "metadata": {},
   "source": [
    "Transform the body with a specified initial position and orientation."
   ]
  },
  {
   "cell_type": "code",
   "execution_count": 6,
   "metadata": {},
   "outputs": [
    {
     "data": {
      "text/plain": [
       "Plate with 51 points and length 1.0 and thickness 0.0\n",
       "   Current position: (1.0,1.0)\n",
       "   Current angle (rad): 0.0\n"
      ]
     },
     "execution_count": 6,
     "metadata": {},
     "output_type": "execute_result"
    }
   ],
   "source": [
    "cent = 1.0 + 1.0im\n",
    "α = 0.0\n",
    "T = RigidTransform(cent,α)\n",
    "T(body) # transform the body to the current configuration"
   ]
  },
  {
   "cell_type": "code",
   "execution_count": 7,
   "metadata": {},
   "outputs": [
    {
     "data": {
      "image/png": "[encoded data removed]"
     },
     "execution_count": 7,
     "metadata": {},
     "output_type": "execute_result"
    }
   ],
   "source": [
    "plot(body,xlim=(0,4),ylim=(0,2))"
   ]
  },
  {
   "cell_type": "markdown",
   "metadata": {},
   "source": [
    "Now set up the coordinate data for operator construction"
   ]
  },
  {
   "cell_type": "code",
   "execution_count": 8,
   "metadata": {},
   "outputs": [],
   "source": [
    "X = VectorData(body.x,body.y);\n",
    "X̃ = VectorData(body.x̃,body.ỹ);"
   ]
  },
  {
   "cell_type": "markdown",
   "metadata": {},
   "source": [
    "Set the domain size and time step size"
   ]
  },
  {
   "cell_type": "code",
   "execution_count": 9,
   "metadata": {},
   "outputs": [
    {
     "data": {
      "text/plain": [
       "(-0.01:0.02:4.01, -0.01:0.02:2.0100000000000002)"
      ]
     },
     "execution_count": 9,
     "metadata": {},
     "output_type": "execute_result"
    }
   ],
   "source": [
    "nx = 202; ny = 102;\n",
    "Ly = 2.0;\n",
    "Δx = Ly/(ny-2);\n",
    "Δt = min(0.5*Δx,0.5*Δx^2*Re);\n",
    "w₀ = Nodes(Dual,(nx,ny));\n",
    "xg, yg = coordinates(w₀,dx=Δx)"
   ]
  },
  {
   "cell_type": "markdown",
   "metadata": {},
   "source": [
    "### Now start constructing operators"
   ]
  },
  {
   "cell_type": "markdown",
   "metadata": {},
   "source": [
    "#### Set up the state vector and constraint force vector for a moving body"
   ]
  },
  {
   "cell_type": "code",
   "execution_count": 10,
   "metadata": {},
   "outputs": [
    {
     "data": {
      "text/plain": [
       "Navier-Stokes system on a grid of size 202 x 102"
      ]
     },
     "execution_count": 10,
     "metadata": {},
     "output_type": "execute_result"
    }
   ],
   "source": [
    "u = (w₀,[real(cent),imag(cent),α])\n",
    "f = (VectorData(X̃),Vector{Float64}());\n",
    "sys = Systems.NavierStokes((nx,ny),Re,Δx,Δt,U∞ = U∞, X̃ = X̃, isstore = true, isstatic = false)"
   ]
  },
  {
   "cell_type": "code",
   "execution_count": 11,
   "metadata": {},
   "outputs": [
    {
     "name": "stdout",
     "output_type": "stream",
     "text": [
      "i=Integrating factor with parameter 0.0625 on a (nx = 202, ny = 102) grid\n",
      "i=[1.0 0.0 0.0; 0.0 1.0 0.0; 0.0 0.0 1.0]\n",
      "i=Integrating factor with parameter 0.0 on a (nx = 202, ny = 102) grid\n",
      "i=[1.0 0.0 0.0; 0.0 1.0 0.0; 0.0 0.0 1.0]\n"
     ]
    },
    {
     "data": {
      "text/plain": [
       "Order-3 IF-HERK integrator with\n",
       "   State of type Tuple{Whirl.Fields.Nodes{Whirl.Fields.Dual,202,102},Array{Float64,1}}\n",
       "   Force of type Tuple{Whirl.Fields.VectorData{51},Array{Float64,1}}\n",
       "   Time step size 0.01\n"
      ]
     },
     "execution_count": 11,
     "metadata": {},
     "output_type": "execute_result"
    }
   ],
   "source": [
    "ifherk = IFHERK(u,f,sys.Δt,\n",
    "                ((t,u) -> Systems.plan_intfact(t,u,sys),\n",
    "                 (t,u) -> eye(3)),\n",
    "                (u,t) -> TimeMarching.plan_constraints(u,t,sys),\n",
    "                ((u,t) -> Systems.r₁(u,t,sys,motion),\n",
    "                 (u,t) -> Systems.r₂(u,t,sys,motion)),tol=1e-3,rk=TimeMarching.RK31,isstored=true,isstaticconstraints=false)"
   ]
  },
  {
   "cell_type": "code",
   "execution_count": 12,
   "metadata": {},
   "outputs": [],
   "source": [
    "t = 0.0\n",
    "w₀ .= 0.0\n",
    "u = (w₀,[real(cent),imag(cent),α])\n",
    "f = (VectorData(X̃),Vector{Float64}());\n",
    "tf = 0.01;\n",
    "T = Δt:Δt:tf;\n",
    "fx = Float64[];\n",
    "fy = Float64[];\n",
    "thist = [];\n",
    "uhist = [];\n",
    "tsample = 0.02;"
   ]
  },
  {
   "cell_type": "code",
   "execution_count": 13,
   "metadata": {},
   "outputs": [
    {
     "name": "stdout",
     "output_type": "stream",
     "text": [
      "i=Integrating factor with parameter 0.0625 on a (nx = 202, ny = 102) grid\n",
      "i=[1.0 0.0 0.0; 0.0 1.0 0.0; 0.0 0.0 1.0]\n",
      "i=Integrating factor with parameter 0.0625 on a (nx = 202, ny = 102) grid\n",
      "i=[1.0 0.0 0.0; 0.0 1.0 0.0; 0.0 0.0 1.0]\n",
      "i=Integrating factor with parameter 0.0 on a (nx = 202, ny = 102) grid\n",
      "i=[1.0 0.0 0.0; 0.0 1.0 0.0; 0.0 0.0 1.0]\n",
      " 10.177178 seconds (59.32 M allocations: 10.826 GiB, 13.64% gc time)\n",
      "solution completed through time t = 0.01\n"
     ]
    }
   ],
   "source": [
    "@time for ti in T\n",
    "    t, u, f = ifherk(t,u)\n",
    "    \n",
    "    # save data for later use\n",
    "    push!(thist,t)\n",
    "    push!(fx,sum(f[1].u)*Δx^2)\n",
    "    push!(fy,sum(f[1].v)*Δx^2)\n",
    "    (isapprox(mod(t,tsample),0,atol=1e-12) || isapprox(mod(t,tsample),tsample,atol=1e-12)) ? push!(uhist,deepcopy(u)) : nothing\n",
    "end\n",
    "println(\"solution completed through time t = \",t)"
   ]
  },
  {
   "cell_type": "code",
   "execution_count": 14,
   "metadata": {},
   "outputs": [
    {
     "data": {
      "text/plain": [
       "(51 points of vector-valued data\n",
       ", Float64[])"
      ]
     },
     "execution_count": 14,
     "metadata": {},
     "output_type": "execute_result"
    }
   ],
   "source": [
    "f"
   ]
  },
  {
   "cell_type": "code",
   "execution_count": 15,
   "metadata": {
    "scrolled": true
   },
   "outputs": [
    {
     "ename": "LoadError",
     "evalue": "\u001b[91mBoundsError: attempt to access 0-element Array{Any,1} at index [1]\u001b[39m",
     "output_type": "error",
     "traceback": [
      "\u001b[91mBoundsError: attempt to access 0-element Array{Any,1} at index [1]\u001b[39m",
      "",
      "Stacktrace:",
      " [1] \u001b[1mgetindex\u001b[22m\u001b[22m\u001b[1m(\u001b[22m\u001b[22m::Array{Any,1}, ::Int64\u001b[1m)\u001b[22m\u001b[22m at \u001b[1m./array.jl:554\u001b[22m\u001b[22m",
      " [2] \u001b[1minclude_string\u001b[22m\u001b[22m\u001b[1m(\u001b[22m\u001b[22m::String, ::String\u001b[1m)\u001b[22m\u001b[22m at \u001b[1m./loading.jl:522\u001b[22m\u001b[22m"
     ]
    }
   ],
   "source": [
    "plot(xg,yg,uhist[1][1],levels=linspace(-0.25,0.25,30))\n",
    "Tr = RigidTransform(uhist[1][2])\n",
    "Tr(body) # transform the body to the current configuration\n",
    "plot!(body,linecolor=:black)"
   ]
  },
  {
   "cell_type": "code",
   "execution_count": 16,
   "metadata": {
    "scrolled": true
   },
   "outputs": [
    {
     "ename": "LoadError",
     "evalue": "\u001b[91mBoundsError: attempt to access 0-element Array{Any,1} at index [0]\u001b[39m",
     "output_type": "error",
     "traceback": [
      "\u001b[91mBoundsError: attempt to access 0-element Array{Any,1} at index [0]\u001b[39m",
      "",
      "Stacktrace:",
      " [1] \u001b[1mgetindex\u001b[22m\u001b[22m\u001b[1m(\u001b[22m\u001b[22m::Array{Any,1}, ::Int64\u001b[1m)\u001b[22m\u001b[22m at \u001b[1m./array.jl:554\u001b[22m\u001b[22m",
      " [2] \u001b[1minclude_string\u001b[22m\u001b[22m\u001b[1m(\u001b[22m\u001b[22m::String, ::String\u001b[1m)\u001b[22m\u001b[22m at \u001b[1m./loading.jl:522\u001b[22m\u001b[22m"
     ]
    }
   ],
   "source": [
    "plot(xg,yg,uhist[end][1],levels=linspace(-0.25,0.25,30))\n",
    "Tr = RigidTransform(uhist[end][2])\n",
    "Tr(body) # transform the body to the current configuration\n",
    "plot!(body,linecolor=:black)"
   ]
  },
  {
   "cell_type": "code",
   "execution_count": 17,
   "metadata": {},
   "outputs": [
    {
     "data": {
      "text/plain": [
       "51-element Array{Float64,1}:\n",
       " -1427.92 \n",
       "   558.705\n",
       " -1085.42 \n",
       "   540.423\n",
       "  -971.049\n",
       "   492.884\n",
       "  -877.147\n",
       "   434.583\n",
       "  -790.287\n",
       "   371.51 \n",
       "  -706.853\n",
       "   305.906\n",
       "  -625.368\n",
       "     ⋮    \n",
       "  -660.081\n",
       "   478.535\n",
       "  -726.699\n",
       "   560.538\n",
       "  -791.413\n",
       "   645.036\n",
       "  -852.609\n",
       "   734.259\n",
       "  -905.557\n",
       "   833.894\n",
       "  -932.403\n",
       "   983.09 "
      ]
     },
     "execution_count": 17,
     "metadata": {},
     "output_type": "execute_result"
    }
   ],
   "source": [
    "f[1].u"
   ]
  },
  {
   "cell_type": "code",
   "execution_count": 18,
   "metadata": {},
   "outputs": [
    {
     "data": {
      "image/png": "[encoded data removed]"
     },
     "execution_count": 18,
     "metadata": {},
     "output_type": "execute_result"
    }
   ],
   "source": [
    "px = plot(thist,2*fx,ylim=(-3,3),xlabel=\"Convective time\",ylabel=\"\\$C_D\\$\",legend=false)\n",
    "py = plot(thist,2*fy,ylim=(-6,6),xlabel=\"Convective time\",ylabel=\"\\$C_L\\$\",legend=false)\n",
    "plot(px,py)"
   ]
  },
  {
   "cell_type": "code",
   "execution_count": 19,
   "metadata": {},
   "outputs": [
    {
     "data": {
      "image/png": "[encoded data removed]"
     },
     "execution_count": 19,
     "metadata": {},
     "output_type": "execute_result"
    },
    {
     "name": "stderr",
     "output_type": "stream",
     "text": [
      "/home/julia/JuliaPro-0.6.2.2/JuliaPro/pkgs-0.6.2.2/v0.6/Conda/deps/usr/lib/python2.7/site-packages/matplotlib/contour.py:1004: UserWarning: The following kwargs were not used by contour: 'label'\n",
      "  s)\n"
     ]
    }
   ],
   "source": [
    "ψ = deepcopy(u[1])\n",
    "ψ .= -(sys.L\\u[1])*Δx .+ repmat(collect(yg)',202,1)\n",
    "plot(xg,yg,ψ,trim=1,clim=(-0.1,0.1))\n",
    "plot!(body,fillcolor=:black,linecolor=:black)"
   ]
  },
  {
   "cell_type": "code",
   "execution_count": null,
   "metadata": {},
   "outputs": [],
   "source": []
  }
 ],
 "metadata": {
  "kernelspec": {
   "display_name": "Julia 0.6.2",
   "language": "julia",
   "name": "julia-0.6"
  },
  "language_info": {
   "file_extension": ".jl",
   "mimetype": "application/julia",
   "name": "julia",
   "version": "0.6.2"
  }
 },
 "nbformat": 4,
 "nbformat_minor": 2
}
