{
 "cells": [
  {
   "cell_type": "markdown",
   "metadata": {},
   "source": [
    "# Testing time marching in package `Whirl`"
   ]
  },
  {
   "cell_type": "code",
   "execution_count": 1,
   "metadata": {},
   "outputs": [],
   "source": [
    "include(joinpath(Pkg.dir(\"Dyn3d\"), \"src/Dyn3d.jl\"))\n",
    "using Dyn3d\n",
    "include(joinpath(Pkg.dir(\"Whirl\"), \"src/Whirl.jl\"))\n",
    "using Whirl"
   ]
  },
  {
   "cell_type": "code",
   "execution_count": 2,
   "metadata": {},
   "outputs": [],
   "source": [
    "using Plots\n",
    "pyplot()\n",
    "clibrary(:colorbrewer)\n",
    "default(grid = false)"
   ]
  },
  {
   "cell_type": "markdown",
   "metadata": {},
   "source": [
    "### Purely 2-d diffusion from a circle, which is constrained system with integrating factor"
   ]
  },
  {
   "cell_type": "code",
   "execution_count": 3,
   "metadata": {},
   "outputs": [],
   "source": [
    "nx = 129; ny = 129;\n",
    "Lx = 2.0;\n",
    "dx = Lx/(nx-2);\n",
    "w = Nodes(Dual,(nx,ny));"
   ]
  },
  {
   "cell_type": "code",
   "execution_count": 4,
   "metadata": {},
   "outputs": [],
   "source": [
    "n = 128;\n",
    "θ = linspace(0,2π,n+1);\n",
    "R = 0.5;\n",
    "xb = 1.0 + R*cos.(θ[1:n])\n",
    "yb = 1.0 + R*sin.(θ[1:n])\n",
    "ds = (2π/n)*R;\n",
    "X = VectorData(xb,yb);\n",
    "f = ScalarData(X);"
   ]
  },
  {
   "cell_type": "code",
   "execution_count": 5,
   "metadata": {},
   "outputs": [],
   "source": [
    "E = Regularize(X,dx;ddftype=Fields.Roma,issymmetric=true)\n",
    "Hmat, Emat = RegularizationMatrix(E,f,w);"
   ]
  },
  {
   "cell_type": "code",
   "execution_count": 6,
   "metadata": {},
   "outputs": [
    {
     "data": {
      "text/plain": [
       "plan_constraints (generic function with 1 method)"
      ]
     },
     "execution_count": 6,
     "metadata": {},
     "output_type": "execute_result"
    }
   ],
   "source": [
    "plan_constraints(u::Nodes{Dual,nx,ny},t::Float64) = Hmat, Emat"
   ]
  },
  {
   "cell_type": "code",
   "execution_count": 7,
   "metadata": {},
   "outputs": [],
   "source": [
    "Whirl.TimeMarching.r₁(w::Nodes{T,NX,NY},t::Float64) where {T,NX,NY} = Nodes(T,w)\n",
    "Whirl.TimeMarching.r₂(w::Nodes{T,NX,NY},t::Float64) where {T,NX,NY} = ScalarData(ones(length(f)))"
   ]
  },
  {
   "cell_type": "code",
   "execution_count": 8,
   "metadata": {},
   "outputs": [
    {
     "data": {
      "text/plain": [
       "Order-3+ IF-HERK integrator with\n",
       "   State of type Whirl.Fields.Nodes{Whirl.Fields.Dual,129,129}\n",
       "   Force of type Whirl.Fields.ScalarData{128}\n",
       "   Time step size 0.01\n"
      ]
     },
     "execution_count": 8,
     "metadata": {},
     "output_type": "execute_result"
    }
   ],
   "source": [
    "Δt = 0.01\n",
    "ifherk = IFHERK(w,f,Δt,plan_intfact,plan_constraints,(r₁,r₂),rk=RK31)"
   ]
  },
  {
   "cell_type": "code",
   "execution_count": 9,
   "metadata": {},
   "outputs": [
    {
     "name": "stdout",
     "output_type": "stream",
     "text": [
      "  0.018099 seconds (529 allocations: 191.710 KiB)\n",
      "  0.018259 seconds (33 allocations: 450.172 KiB)\n",
      "  0.012601 seconds (32 allocations: 289.063 KiB)\n"
     ]
    }
   ],
   "source": [
    "@time ifherk.S[1].B₂A⁻¹(w)\n",
    "@time ifherk.S[1].S*f;\n",
    "@time ifherk.S[1].A⁻¹B₁ᵀ(f);"
   ]
  },
  {
   "cell_type": "code",
   "execution_count": 10,
   "metadata": {},
   "outputs": [
    {
     "name": "stdout",
     "output_type": "stream",
     "text": [
      "  4.480806 seconds (340.61 k allocations: 236.428 MiB, 0.77% gc time)\n"
     ]
    },
    {
     "data": {
      "text/plain": [
       "(0.01, Whirl.Fields.Dual nodes in a (nx = 129, ny = 129) cell grid\n",
       "  Number of Whirl.Fields.Dual nodes: (nx = 129, ny = 129), 128 points of scalar-valued data\n",
       ")"
      ]
     },
     "execution_count": 10,
     "metadata": {},
     "output_type": "execute_result"
    }
   ],
   "source": [
    "@time ifherk(0.0,w)"
   ]
  },
  {
   "cell_type": "code",
   "execution_count": 11,
   "metadata": {},
   "outputs": [],
   "source": [
    "t = 0.0\n",
    "w = Nodes(Dual,(nx,ny));"
   ]
  },
  {
   "cell_type": "code",
   "execution_count": 12,
   "metadata": {
    "scrolled": false
   },
   "outputs": [
    {
     "name": "stdout",
     "output_type": "stream",
     "text": [
      "180.990520 seconds (815.98 k allocations: 10.887 GiB, 0.67% gc time)\n"
     ]
    }
   ],
   "source": [
    "@time for i = 1:50\n",
    "    t,w,f = ifherk(t,w);\n",
    "end"
   ]
  },
  {
   "cell_type": "code",
   "execution_count": 13,
   "metadata": {},
   "outputs": [
    {
     "data": {
      "text/plain": [
       "11-element Array{Float64,1}:\n",
       " 0.0190855  \n",
       " 0.110761   \n",
       " 0.460076   \n",
       " 1.14455    \n",
       " 0.826561   \n",
       " 0.252182   \n",
       " 0.0512657  \n",
       " 0.00765947 \n",
       " 0.000897275\n",
       " 8.61091e-5 \n",
       " 6.9838e-6  "
      ]
     },
     "execution_count": 13,
     "metadata": {},
     "output_type": "execute_result"
    }
   ],
   "source": [
    "w.data[65,30:40]"
   ]
  },
  {
   "cell_type": "code",
   "execution_count": 14,
   "metadata": {},
   "outputs": [
    {
     "data": {
      "text/plain": [
       "128 points of scalar-valued data\n",
       " -2.13742\n",
       " -2.09086\n",
       " -2.08116\n",
       " -2.05936\n",
       " -2.16781\n",
       " -2.17253\n",
       " -2.06074\n",
       " -2.22579\n",
       " -2.1486 \n",
       " -2.08788\n",
       " -2.2755 \n",
       " -2.18148\n",
       " -2.12985\n",
       "  ⋮      \n",
       " -2.12985\n",
       " -2.18148\n",
       " -2.2755 \n",
       " -2.08788\n",
       " -2.1486 \n",
       " -2.22579\n",
       " -2.06074\n",
       " -2.17253\n",
       " -2.16781\n",
       " -2.05936\n",
       " -2.08116\n",
       " -2.09086"
      ]
     },
     "execution_count": 14,
     "metadata": {},
     "output_type": "execute_result"
    }
   ],
   "source": [
    "f"
   ]
  },
  {
   "cell_type": "code",
   "execution_count": 15,
   "metadata": {},
   "outputs": [
    {
     "data": {
      "image/png": "[encoded data removed]"
     },
     "execution_count": 15,
     "metadata": {},
     "output_type": "execute_result"
    },
    {
     "name": "stderr",
     "output_type": "stream",
     "text": [
      "/home/julia/JuliaPro-0.6.2.2/JuliaPro/pkgs-0.6.2.2/v0.6/Conda/deps/usr/lib/python2.7/site-packages/matplotlib/contour.py:1004: UserWarning: The following kwargs were not used by contour: 'label'\n",
      "  s)\n"
     ]
    }
   ],
   "source": [
    "xg, yg = coordinates(w,dx=dx)\n",
    "plot(xg,yg,w)"
   ]
  },
  {
   "cell_type": "code",
   "execution_count": 16,
   "metadata": {
    "scrolled": false
   },
   "outputs": [
    {
     "data": {
      "image/png": "[encoded data removed]"
     },
     "execution_count": 16,
     "metadata": {},
     "output_type": "execute_result"
    }
   ],
   "source": [
    "plot(xg,w[65,:])"
   ]
  },
  {
   "cell_type": "markdown",
   "metadata": {},
   "source": [
    "### 2-d diffusion from a circle with heat source"
   ]
  },
  {
   "cell_type": "code",
   "execution_count": null,
   "metadata": {},
   "outputs": [],
   "source": [
    "nx = 129; ny = 129;\n",
    "Lx = 2.0;\n",
    "dx = Lx/(nx-2);\n",
    "w = Nodes(Dual,(nx,ny));"
   ]
  },
  {
   "cell_type": "code",
   "execution_count": null,
   "metadata": {},
   "outputs": [],
   "source": [
    "n = 128;\n",
    "θ = linspace(0,2π,n+1);\n",
    "R = 0.5;\n",
    "xb = 1.0 + R*cos.(θ[1:n])\n",
    "yb = 1.0 + R*sin.(θ[1:n])\n",
    "ds = (2π/n)*R;\n",
    "X = VectorData(xb,yb);\n",
    "f = ScalarData(X);"
   ]
  },
  {
   "cell_type": "code",
   "execution_count": null,
   "metadata": {},
   "outputs": [],
   "source": [
    "E = Regularize(X,dx;ddftype=Fields.Roma,issymmetric=true)\n",
    "Hmat, Emat = RegularizationMatrix(E,f,w);"
   ]
  },
  {
   "cell_type": "code",
   "execution_count": null,
   "metadata": {},
   "outputs": [],
   "source": [
    "plan_constraints(u::Nodes{Dual,nx,ny},t::Float64) = Hmat, Emat"
   ]
  },
  {
   "cell_type": "code",
   "execution_count": null,
   "metadata": {},
   "outputs": [],
   "source": [
    "Whirl.TimeMarching.r₁(w::Nodes{T,NX,NY},t::Float64) where {T,NX,NY} = Nodes(T,w)\n",
    "Whirl.TimeMarching.r₂(w::Nodes{T,NX,NY},t::Float64) where {T,NX,NY} = ScalarData(ones(length(f)))"
   ]
  },
  {
   "cell_type": "code",
   "execution_count": null,
   "metadata": {
    "scrolled": true
   },
   "outputs": [],
   "source": [
    "Δt = 0.01\n",
    "ifherk = IFHERK(w,f,Δt,plan_intfact,plan_constraints,(r₁,r₂),rk=RK31)"
   ]
  },
  {
   "cell_type": "code",
   "execution_count": null,
   "metadata": {
    "scrolled": true
   },
   "outputs": [],
   "source": [
    "@time ifherk(0.0,w)"
   ]
  },
  {
   "cell_type": "code",
   "execution_count": null,
   "metadata": {},
   "outputs": [],
   "source": [
    "t = 0.0\n",
    "w = Nodes(Dual,(nx,ny));\n",
    "w.data[[65,66,65,66],[40,40,90,90]] .= 2.0; "
   ]
  },
  {
   "cell_type": "code",
   "execution_count": null,
   "metadata": {},
   "outputs": [],
   "source": [
    "@time for i = 1:200\n",
    "    t,w,f = ifherk(t,w);\n",
    "    w.data[[65,66,65,66],[40,40,90,90]] .= 2.0; \n",
    "end"
   ]
  },
  {
   "cell_type": "code",
   "execution_count": null,
   "metadata": {},
   "outputs": [],
   "source": [
    "w.data[65,30:40]"
   ]
  },
  {
   "cell_type": "code",
   "execution_count": null,
   "metadata": {},
   "outputs": [],
   "source": [
    "w.data[65,60:70]"
   ]
  },
  {
   "cell_type": "code",
   "execution_count": null,
   "metadata": {},
   "outputs": [],
   "source": [
    "xg, yg = coordinates(w,dx=dx)\n",
    "plot(xg,yg,w)"
   ]
  },
  {
   "cell_type": "code",
   "execution_count": null,
   "metadata": {
    "scrolled": false
   },
   "outputs": [],
   "source": [
    "plot(xg,w[65,:])"
   ]
  }
 ],
 "metadata": {
  "kernelspec": {
   "display_name": "Julia 0.6.2",
   "language": "julia",
   "name": "julia-0.6"
  },
  "language_info": {
   "file_extension": ".jl",
   "mimetype": "application/julia",
   "name": "julia",
   "version": "0.6.2"
  }
 },
 "nbformat": 4,
 "nbformat_minor": 2
}
